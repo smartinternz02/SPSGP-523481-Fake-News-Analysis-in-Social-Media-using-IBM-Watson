{
 "cells": [
  {
   "cell_type": "code",
   "execution_count": 1,
   "id": "3489fab8",
   "metadata": {},
   "outputs": [],
   "source": [
    "# Name: Jayanthi Challa\n",
    "# Campus: VIT-AP\n",
    "# Email: jayanthi.20mis7066@vitap.ac.in\n",
    "# Reg.No.: 20MIS7066"
   ]
  },
  {
   "cell_type": "code",
   "execution_count": 2,
   "id": "8e142c09",
   "metadata": {},
   "outputs": [],
   "source": [
    "# Task-1: Create a panas data frame (DataFrame name as 'df') with jumpy random values (4 features and 4 observation)"
   ]
  },
  {
   "cell_type": "code",
   "execution_count": 3,
   "id": "b102c35d",
   "metadata": {},
   "outputs": [],
   "source": [
    "import pandas as pd\n",
    "import numpy as np\n",
    "\n",
    "np.random.seed(42)  # Set a random seed for reproducibility\n",
    "\n",
    "data = np.random.randn(4, 4)  # Generate random values\n",
    "\n",
    "df = pd.DataFrame(data, columns=['Feature 1', 'Feature 2', 'Feature 3', 'Feature 4'])"
   ]
  },
  {
   "cell_type": "code",
   "execution_count": 4,
   "id": "854c5411",
   "metadata": {},
   "outputs": [],
   "source": [
    "# Task-2: Rename the above task 'df' dataframe column names to 'Random value 1', 'Random value 2', 'Random value 3' & \n",
    "#         'Random value 4'"
   ]
  },
  {
   "cell_type": "code",
   "execution_count": 5,
   "id": "c9370ee3",
   "metadata": {},
   "outputs": [],
   "source": [
    "import pandas as pd\n",
    "import numpy as np\n",
    "\n",
    "np.random.seed(42)  # Set a random seed for reproducibility\n",
    "\n",
    "data = np.random.randn(4, 4)  # Generate random values\n",
    "\n",
    "df = pd.DataFrame(data, columns=['Feature 1', 'Feature 2', 'Feature 3', 'Feature 4'])\n",
    "df.rename(columns={'Feature 1': 'Random value 1', 'Feature 2': 'Random value 2',\n",
    "                   'Feature 3': 'Random value 3', 'Feature 4': 'Random value 4'}, inplace=True)"
   ]
  },
  {
   "cell_type": "code",
   "execution_count": 6,
   "id": "39d1252e",
   "metadata": {},
   "outputs": [],
   "source": [
    "# Task-3: Find the descriptive statistics of the 'df' dataframe"
   ]
  },
  {
   "cell_type": "code",
   "execution_count": 7,
   "id": "dd8f2a84",
   "metadata": {},
   "outputs": [
    {
     "name": "stdout",
     "output_type": "stream",
     "text": [
      "       Random value 1  Random value 2  Random value 3  Random value 4\n",
      "count        4.000000        4.000000        4.000000        4.000000\n",
      "mean         0.008762       -0.435780        0.009641        0.315612\n",
      "std          0.439772        1.043924        1.426317        1.007175\n",
      "min         -0.469474       -1.913280       -1.724918       -0.562288\n",
      "25%         -0.292984       -0.653923       -0.778793       -0.489869\n",
      "50%          0.003904       -0.186201        0.092135        0.150852\n",
      "75%          0.305650        0.031942        0.880570        0.956334\n",
      "max          0.496714        0.542560        1.579213        1.523030\n"
     ]
    }
   ],
   "source": [
    "descriptive_stats = df.describe()\n",
    "print(descriptive_stats)"
   ]
  },
  {
   "cell_type": "code",
   "execution_count": 8,
   "id": "7ecf227e",
   "metadata": {},
   "outputs": [],
   "source": [
    "# Task-4: Check for the null values in 'df' and find the data type of the columns"
   ]
  },
  {
   "cell_type": "code",
   "execution_count": 9,
   "id": "fec4376c",
   "metadata": {},
   "outputs": [
    {
     "name": "stdout",
     "output_type": "stream",
     "text": [
      "Random value 1    0\n",
      "Random value 2    0\n",
      "Random value 3    0\n",
      "Random value 4    0\n",
      "dtype: int64\n"
     ]
    }
   ],
   "source": [
    "null_values = df.isnull().sum()\n",
    "print(null_values)"
   ]
  },
  {
   "cell_type": "code",
   "execution_count": 10,
   "id": "9c5d61ac",
   "metadata": {},
   "outputs": [
    {
     "name": "stdout",
     "output_type": "stream",
     "text": [
      "Random value 1    float64\n",
      "Random value 2    float64\n",
      "Random value 3    float64\n",
      "Random value 4    float64\n",
      "dtype: object\n"
     ]
    }
   ],
   "source": [
    "data_types = df.dtypes\n",
    "print(data_types)"
   ]
  },
  {
   "cell_type": "code",
   "execution_count": 11,
   "id": "9506345e",
   "metadata": {},
   "outputs": [],
   "source": [
    "# Task-5: Display the 'Random value 2' & 'Random value 3' columns with location method and index location method"
   ]
  },
  {
   "cell_type": "code",
   "execution_count": 12,
   "id": "a9f9c5cb",
   "metadata": {},
   "outputs": [
    {
     "name": "stdout",
     "output_type": "stream",
     "text": [
      "   Random value 2  Random value 3\n",
      "0       -0.138264        0.647689\n",
      "1       -0.234137        1.579213\n",
      "2        0.542560       -0.463418\n",
      "3       -1.913280       -1.724918\n",
      "   Random value 2  Random value 3\n",
      "0       -0.138264        0.647689\n",
      "1       -0.234137        1.579213\n",
      "2        0.542560       -0.463418\n",
      "3       -1.913280       -1.724918\n"
     ]
    }
   ],
   "source": [
    "# Using the location method\n",
    "random_value_2_3_loc = df.loc[:, ['Random value 2', 'Random value 3']]\n",
    "print(random_value_2_3_loc)\n",
    "\n",
    "# Using the index location method\n",
    "random_value_2_3_iloc = df.iloc[:, [1, 2]]\n",
    "print(random_value_2_3_iloc)"
   ]
  }
 ],
 "metadata": {
  "kernelspec": {
   "display_name": "Python 3 (ipykernel)",
   "language": "python",
   "name": "python3"
  },
  "language_info": {
   "codemirror_mode": {
    "name": "ipython",
    "version": 3
   },
   "file_extension": ".py",
   "mimetype": "text/x-python",
   "name": "python",
   "nbconvert_exporter": "python",
   "pygments_lexer": "ipython3",
   "version": "3.11.0"
  }
 },
 "nbformat": 4,
 "nbformat_minor": 5
}
